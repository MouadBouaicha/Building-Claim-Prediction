{
 "cells": [
  {
   "cell_type": "code",
   "execution_count": 1,
   "metadata": {},
   "outputs": [
    {
     "name": "stderr",
     "output_type": "stream",
     "text": [
      "C:\\Users\\Mouad\\AppData\\Local\\Temp\\ipykernel_14620\\1923100292.py:7: DtypeWarning: Columns (1) have mixed types. Specify dtype option on import or set low_memory=False.\n",
      "  catnat_df = pd.read_csv(r'gaspar\\catnat_gaspar.csv', delimiter=';')\n",
      "C:\\Users\\Mouad\\AppData\\Local\\Temp\\ipykernel_14620\\1923100292.py:9: DtypeWarning: Columns (6,15,17,20,21,22,23,24,25,26,27,30,31,36) have mixed types. Specify dtype option on import or set low_memory=False.\n",
      "  pprn_df = pd.read_csv(r'gaspar\\pprn_gaspar.csv', delimiter=';')\n"
     ]
    }
   ],
   "source": [
    "import pandas as pd\n",
    "\n",
    "# Load the main dataset\n",
    "main_df = pd.read_csv(r'merged_data.csv')\n",
    "\n",
    "# Load GASPARR datasets\n",
    "catnat_df = pd.read_csv(r'gaspar\\catnat_gaspar.csv', delimiter=';')\n",
    "risq_df = pd.read_csv(r'gaspar\\risq_gaspar.csv', delimiter=';')\n",
    "pprn_df = pd.read_csv(r'gaspar\\pprn_gaspar.csv', delimiter=';')\n"
   ]
  },
  {
   "cell_type": "code",
   "execution_count": 2,
   "metadata": {},
   "outputs": [],
   "source": [
    "# Example preprocessing for catnat_gaspar.csv (you might need to adjust based on actual data needs)\n",
    "catnat_df_relevant = catnat_df[['cod_commune', 'lib_risque_jo', 'dat_deb', 'dat_fin']].copy()\n",
    "\n",
    "# For risq_gaspar.csv\n",
    "risq_df_relevant = risq_df[['cod_commune', 'lib_risque']].copy()\n",
    "\n",
    "# For pprn_gaspar.csv\n",
    "pprn_df_relevant = pprn_df[['cod_commune', 'lib_risque', 'dat_approbation']].copy()\n"
   ]
  },
  {
   "cell_type": "code",
   "execution_count": 3,
   "metadata": {},
   "outputs": [],
   "source": [
    "# Example preprocessing for catnat_gaspar.csv (you might need to adjust based on actual data needs)\n",
    "catnat_df_relevant = catnat_df[['cod_commune', 'lib_risque_jo', 'dat_deb', 'dat_fin']].copy()\n",
    "\n",
    "# For risq_gaspar.csv\n",
    "risq_df_relevant = risq_df[['cod_commune', 'lib_risque']].copy()\n",
    "\n",
    "# For pprn_gaspar.csv\n",
    "pprn_df_relevant = pprn_df[['cod_commune', 'lib_risque', 'dat_approbation']].copy()\n"
   ]
  },
  {
   "cell_type": "code",
   "execution_count": 4,
   "metadata": {},
   "outputs": [],
   "source": [
    "# Merge main dataset with catnat_gaspar.csv on INSEE code\n",
    "merged_df = pd.merge(main_df, catnat_df_relevant, how='left', left_on='Insee', right_on='cod_commune')\n",
    "\n",
    "# Merge the result with risq_gaspar.csv\n",
    "merged_df = pd.merge(merged_df, risq_df_relevant, how='left', on='cod_commune')\n",
    "\n",
    "# Merge the result with pprn_gaspar.csv\n",
    "merged_df = pd.merge(merged_df, pprn_df_relevant, how='left', on='cod_commune', suffixes=('_risq', '_pprn'))\n"
   ]
  },
  {
   "cell_type": "code",
   "execution_count": 5,
   "metadata": {},
   "outputs": [],
   "source": [
    "# Drop duplicate or unnecessary columns\n",
    "merged_df.drop(['cod_commune'], axis=1, inplace=True)\n",
    "\n",
    "# Optionally, rename columns for clarity\n",
    "merged_df.rename(columns={'lib_risque_jo': 'risk_type_catnat', 'dat_deb': 'risk_start_date_catnat', 'dat_fin': 'risk_end_date_catnat'}, inplace=True)\n"
   ]
  },
  {
   "cell_type": "code",
   "execution_count": 6,
   "metadata": {},
   "outputs": [],
   "source": [
    "# Save the merged dataset\n",
    "merged_df.to_csv(r'C:\\VS Code\\BuildingClaimPrediction\\enriched_merged_data.csv', index=False)\n",
    "\n",
    "# Now, you can proceed with your analysis on `merged_df`.\n"
   ]
  }
 ],
 "metadata": {
  "kernelspec": {
   "display_name": "DS",
   "language": "python",
   "name": "python3"
  },
  "language_info": {
   "codemirror_mode": {
    "name": "ipython",
    "version": 3
   },
   "file_extension": ".py",
   "mimetype": "text/x-python",
   "name": "python",
   "nbconvert_exporter": "python",
   "pygments_lexer": "ipython3",
   "version": "3.11.3"
  }
 },
 "nbformat": 4,
 "nbformat_minor": 2
}
